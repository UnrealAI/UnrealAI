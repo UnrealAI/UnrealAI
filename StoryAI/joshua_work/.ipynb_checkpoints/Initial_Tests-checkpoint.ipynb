{
 "cells": [
  {
   "cell_type": "markdown",
   "metadata": {},
   "source": [
    "# StoryAI Tests \n",
    "The goal of this notebook is to:\n",
    "* learn how to recognize important words in a paragraph\n",
    "* find and plot images from the internet that are the most representative of these words\n",
    "* these are intermediate steps for the ultimate project goal\n",
    "\n",
    "NLP Toolkit: https://www.nltk.org\n",
    "Hide's Lit Review: https://datascience.stackexchange.com/questions/5316/general-approach-to-extract-key-text-from-sentence-nlp\n",
    "\n",
    "Step One: Recognize important words in a paragraph!"
   ]
  },
  {
   "cell_type": "markdown",
   "metadata": {},
   "source": [
    "Notes:\n",
    "\n",
    "\"You can consider using OpenNLP / StanfordNLP for Part of Speech\"\n",
    "Shallow NLP technique steps:\n",
    "\n",
    "1) Convert the sentence to lowercase\n",
    "\n",
    "2) Remove stopwords (these are common words found in a language. Words like for, very, and, of, are, etc, are common stop words)\n",
    "\n",
    "3) Extract n-gram i.e., a contiguous sequence of n items from a given sequence of text (simply increasing n, model can be used to store more context)\n",
    "\n",
    "4) Assign a syntactic label (noun, verb etc.)\n",
    "\n",
    "5) Knowledge extraction from text through semantic/syntactic analysis approach i.e., try to retain words that hold higher weight in a sentence like Noun/Verb\n",
    "\n",
    "1-gram, 2-gram, 3-gram\n",
    "\n",
    "Deep NLP technique will give better results i.e., rather than n-gram, detect relationships within the sentences and represent/express as complex construction to retain the context. For additional info, please refer https://stats.stackexchange.com/a/133680/66708\n",
    "\n",
    "1) Get the syntactic relationship between each pair of words. \n",
    "2) Apply sentence segmentation to determine the sentence boundaries.\n",
    "3) The Parser is then applied to generate output in the form of dependency relations, which represent the syntactic relations within each sentence. \n"
   ]
  },
  {
   "cell_type": "code",
   "execution_count": 2,
   "metadata": {
    "collapsed": true
   },
   "outputs": [],
   "source": [
    "test_sentence = \"Arthur, the Westie, rolled on the grass while the squirrel sneeked past.\""
   ]
  },
  {
   "cell_type": "code",
   "execution_count": 5,
   "metadata": {},
   "outputs": [
    {
     "name": "stdout",
     "output_type": "stream",
     "text": [
      "arthur, the westie, rolled on the grass while the squirrel sneeked past.\n"
     ]
    }
   ],
   "source": [
    "# 1\n",
    "test_lower = test_sentence.lower()\n",
    "print(test_lower)"
   ]
  },
  {
   "cell_type": "code",
   "execution_count": null,
   "metadata": {
    "collapsed": true
   },
   "outputs": [],
   "source": []
  }
 ],
 "metadata": {
  "kernelspec": {
   "display_name": "Python 3",
   "language": "python",
   "name": "python3"
  },
  "language_info": {
   "codemirror_mode": {
    "name": "ipython",
    "version": 3
   },
   "file_extension": ".py",
   "mimetype": "text/x-python",
   "name": "python",
   "nbconvert_exporter": "python",
   "pygments_lexer": "ipython3",
   "version": "3.6.2"
  }
 },
 "nbformat": 4,
 "nbformat_minor": 2
}
