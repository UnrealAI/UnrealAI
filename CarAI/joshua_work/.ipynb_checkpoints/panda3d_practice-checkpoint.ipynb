{
 "cells": [
  {
   "cell_type": "code",
   "execution_count": 1,
   "metadata": {
    "collapsed": true
   },
   "outputs": [],
   "source": [
    "from direct.showbase.ShowBase import ShowBase\n",
    "from direct.actor.Actor import Actor\n",
    "from panda3d.core import Vec3\n",
    "class Application(ShowBase):\n",
    "    def __init__(self):\n",
    "        ShowBase.__init__(self)\n",
    "        self.teapot = loader.loadModel(\"teapot\")\n",
    "        self.teapot.reparentTo(render)\n",
    "        self.teapot.setPos(-5, 0, 0)\n",
    "        self.pandaActor = Actor(\"panda\", {\"walk\": \"panda-walk\"})\n",
    "        self.pandaActor.reparentTo(render)\n",
    "        self.pandaActor.setPos(Vec3(5, 0, 0))\n",
    "        self.pandaActor.loop(\"walk\")\n",
    "        self.cam.setPos(0, -30, 6)"
   ]
  },
  {
   "cell_type": "code",
   "execution_count": null,
   "metadata": {
    "collapsed": true
   },
   "outputs": [],
   "source": []
  }
 ],
 "metadata": {
  "kernelspec": {
   "display_name": "Python 3",
   "language": "python",
   "name": "python3"
  },
  "language_info": {
   "codemirror_mode": {
    "name": "ipython",
    "version": 3
   },
   "file_extension": ".py",
   "mimetype": "text/x-python",
   "name": "python",
   "nbconvert_exporter": "python",
   "pygments_lexer": "ipython3",
   "version": "3.6.2"
  }
 },
 "nbformat": 4,
 "nbformat_minor": 2
}
