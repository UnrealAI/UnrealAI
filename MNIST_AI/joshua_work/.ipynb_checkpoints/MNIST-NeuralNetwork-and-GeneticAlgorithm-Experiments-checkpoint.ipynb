{
 "cells": [
  {
   "cell_type": "markdown",
   "metadata": {},
   "source": [
    "# MNIST Dataset, Genetic Algorithms and Neural Networks\n",
    "\n",
    "What is the MNIST dataset? Simply put, it is 70000 black and white images of handwritten digits.\n",
    "\n",
    "Where is it available?\n",
    "\n",
    "To begin, let's import the MNIST dataset.\n",
    "\n",
    "For this notebook, we'll use scikit-learn and sklearn-deap for our computations, and plotly, seaborn and matplotlib for visualizations."
   ]
  },
  {
   "cell_type": "code",
   "execution_count": null,
   "metadata": {},
   "outputs": [],
   "source": [
    "from sklearn.datasets import fetch_mldata\n",
    "import tempfile\n",
    "from six.moves import urllib\n",
    "import pickle, os\n",
    "\n",
    "if os.path.exists('mnist.p') == 0 or os.stat('mnist.p').st_size == 0:\n",
    "    test_data_home = tempfile.mkdtemp()\n",
    "    try:\n",
    "        mnist = fetch_mldata('MNIST original',data_home=test_data_home)\n",
    "    except:\n",
    "        from scipy.io import loadmat\n",
    "        mnist_alternative_url = \"https://github.com/amplab/datascience-sp14/raw/master/lab7/mldata/mnist-original.mat\"\n",
    "        mnist_path = \"./mnist-original.mat\"\n",
    "        response = urllib.request.urlopen(mnist_alternative_url)\n",
    "        with open(mnist_path, \"wb\") as f:\n",
    "            content = response.read()\n",
    "            f.write(content)\n",
    "        mnist_raw = loadmat(mnist_path)\n",
    "        mnist = {\n",
    "            \"data\": mnist_raw[\"data\"].T,\n",
    "            \"target\": mnist_raw[\"label\"][0],\n",
    "            \"COL_NAMES\": [\"label\", \"data\"],\n",
    "            \"DESCR\": \"mldata.org dataset: mnist-original\",\n",
    "        }\n",
    "    pickle.dump(mnist,open('mnist.p','wb'),2)\n",
    "else:\n",
    "    mnist = pickle.load(open('mnist.p','rb'),2)"
   ]
  },
  {
   "cell_type": "markdown",
   "metadata": {},
   "source": [
    "Now that we've imported the data, let"
   ]
  }
 ],
 "metadata": {
  "kernelspec": {
   "display_name": "Python 3",
   "language": "python",
   "name": "python3"
  },
  "language_info": {
   "codemirror_mode": {
    "name": "ipython",
    "version": 3
   },
   "file_extension": ".py",
   "mimetype": "text/x-python",
   "name": "python",
   "nbconvert_exporter": "python",
   "pygments_lexer": "ipython3",
   "version": "3.6.2"
  }
 },
 "nbformat": 4,
 "nbformat_minor": 2
}
